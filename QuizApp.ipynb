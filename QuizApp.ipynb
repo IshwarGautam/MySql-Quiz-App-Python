{
 "cells": [
  {
   "cell_type": "code",
   "execution_count": 21,
   "id": "85466174",
   "metadata": {},
   "outputs": [],
   "source": [
    "import sys\n",
    "import random\n",
    "import mysql.connector\n",
    "from mysql.connector import Error\n",
    "\n",
    "\n",
    "import warnings\n",
    "warnings.filterwarnings(\"ignore\")"
   ]
  },
  {
   "cell_type": "code",
   "execution_count": 22,
   "id": "00275761",
   "metadata": {},
   "outputs": [
    {
     "name": "stdout",
     "output_type": "stream",
     "text": [
      "Your server is running!!!\n"
     ]
    }
   ],
   "source": [
    "def create_server_connection(host_name, user_name, user_password):\n",
    "    connection = None\n",
    "    try:\n",
    "        connection = mysql.connector.connect(\n",
    "            host = host_name,\n",
    "            user = user_name,\n",
    "            passwd = user_password\n",
    "        )\n",
    "        print(\"Your server is running!!!\")\n",
    "    except Error as err:\n",
    "        print(f\"Error: '{err}'\")\n",
    "    return connection\n",
    "\n",
    "pw = 'ishwar'\n",
    "db = 'quiz'\n",
    "\n",
    "# Make connection\n",
    "connection = create_server_connection(\"localhost\", \"root\", pw)"
   ]
  },
  {
   "cell_type": "code",
   "execution_count": 23,
   "id": "35cdc0ea",
   "metadata": {},
   "outputs": [
    {
     "name": "stdout",
     "output_type": "stream",
     "text": [
      "Database Created Successfully.\n"
     ]
    }
   ],
   "source": [
    "# Database creation\n",
    "def create_database(connection, query):\n",
    "    cursor = connection.cursor()\n",
    "    try:\n",
    "        cursor.execute(query)\n",
    "        print(\"Database Created Successfully.\")\n",
    "    except Error as err:\n",
    "        print(f\"Error: '{err}'\")\n",
    "        \n",
    "create_database_query = \"Create database quiz\"\n",
    "create_database(connection, create_database_query)"
   ]
  },
  {
   "cell_type": "code",
   "execution_count": 24,
   "id": "4e7fc3cb",
   "metadata": {},
   "outputs": [],
   "source": [
    "# database connection\n",
    "def create_db_connection(host_name, user_name, user_password, db_name):\n",
    "    connection = None\n",
    "    try:\n",
    "        connection = mysql.connector.connect(\n",
    "            host = host_name,\n",
    "            user = user_name,\n",
    "            passwd = user_password,\n",
    "            database = db_name\n",
    "        )\n",
    "        print(\"MySQL Database Connection Successful\")\n",
    "    except Error as err:\n",
    "        print(f\"Error: '{err}'\")\n",
    "    return connection"
   ]
  },
  {
   "cell_type": "code",
   "execution_count": 25,
   "id": "397e56cb",
   "metadata": {},
   "outputs": [],
   "source": [
    "# Execute sql queries\n",
    "def execute_query(connection, query):\n",
    "    cursor = connection.cursor()\n",
    "    try:\n",
    "        cursor.execute(query)\n",
    "        connection.commit()\n",
    "        print(\"Query Executed Successful.\")\n",
    "    except Error as err:\n",
    "        print(f\"Error: '{err}'\")"
   ]
  },
  {
   "cell_type": "code",
   "execution_count": 26,
   "id": "5acb640f",
   "metadata": {},
   "outputs": [
    {
     "name": "stdout",
     "output_type": "stream",
     "text": [
      "MySQL Database Connection Successful\n",
      "Query Executed Successful.\n"
     ]
    }
   ],
   "source": [
    "create_quiz_table = '''\n",
    "create table question(\n",
    "question_id int primary key,\n",
    "question varchar(1000) not null,\n",
    "option_1 varchar(100) not null,\n",
    "option_2 varchar(100) not null,\n",
    "option_3 varchar(100) not null,\n",
    "option_4 varchar(100) not null,\n",
    "answer varchar(100) not null\n",
    ")\n",
    "'''\n",
    "\n",
    "connection = create_db_connection(\"localhost\", \"root\", pw, db)\n",
    "execute_query(connection, create_quiz_table)"
   ]
  },
  {
   "cell_type": "code",
   "execution_count": 27,
   "id": "5f0784a2",
   "metadata": {},
   "outputs": [
    {
     "name": "stdout",
     "output_type": "stream",
     "text": [
      "MySQL Database Connection Successful\n",
      "Query Executed Successful.\n"
     ]
    }
   ],
   "source": [
    "create_user_table = '''\n",
    "create table users(\n",
    "user_id int primary key,\n",
    "name varchar(50) not null,\n",
    "score int not null\n",
    ")\n",
    "'''\n",
    "\n",
    "connection = create_db_connection(\"localhost\", \"root\", pw, db)\n",
    "execute_query(connection, create_user_table)"
   ]
  },
  {
   "cell_type": "code",
   "execution_count": 28,
   "id": "6ac905d8",
   "metadata": {},
   "outputs": [],
   "source": [
    "# Question section\n",
    "def Question():\n",
    "    key='Y'\n",
    "    \n",
    "    while key=='Y' or key=='y':\n",
    "        print(\"Welcome to Question Portal\")\n",
    "        print(\"***********************\")\n",
    "        question=input(\"Enter the question: \")\n",
    "        option_1=input(\"Enter the option 1: \")\n",
    "        option_2=input(\"Enter the option 2: \")\n",
    "        option_3=input(\"Enter the option 3: \")\n",
    "        option_4=input(\"Enter the option 4: \")\n",
    "        answer=0\n",
    "        \n",
    "        while answer==0:\n",
    "            option=int(input(\"Which option is correct answer (1,2,3,4): \"))\n",
    "            if option==1:\n",
    "                answer=option_1\n",
    "            elif option==2:\n",
    "                answer=option_2\n",
    "            elif option==3:\n",
    "                answer=option_3\n",
    "            elif option==4:\n",
    "                answer=option_4\n",
    "            else:\n",
    "                print(\"Please choose the correct option as answer\")\n",
    "                \n",
    "        mycursor.execute(\"Select * from question\")\n",
    "        data=mycursor.fetchall()\n",
    "        question_id=(mycursor.rowcount)+1\n",
    "        mycursor.execute(\"Insert into question values (%s,%s,%s,%s,%s,%s,%s)\",\n",
    "                         (question_id,question,option_1,option_2,option_3,option_4,answer))\n",
    "        mydb.commit()\n",
    "        key=input(\"Question added successfully.. Do you want to add more (Y/N) \")\n",
    "    Home()"
   ]
  },
  {
   "cell_type": "code",
   "execution_count": 29,
   "id": "41a8a56d",
   "metadata": {},
   "outputs": [],
   "source": [
    "# Quiz section\n",
    "def Quiz():\n",
    "    print(\"Welcome to Quiz portal\")\n",
    "    print(\"***********************\")\n",
    "    mycursor.execute(\"Select * from question\")\n",
    "    data=mycursor.fetchall()\n",
    "    \n",
    "    name=input(\"Enter your name: \")\n",
    "    total_question=mycursor.rowcount\n",
    "    to_attempt=int(input(f\"Enter the number of questions to attempt (max {total_question}):\"))\n",
    "    \n",
    "    question_ids=[i for i in range(1, total_question+1)]\n",
    "    question_ids=random.sample(question_ids, to_attempt) #only some ids are required\n",
    "   \n",
    "    print(\"Quiz has started\")\n",
    "    c=1\n",
    "    score=0\n",
    "    for i in range(0,len(question_ids)):\n",
    "        mycursor.execute(\"Select * from question where question_id=%s\",(question_ids[i],))\n",
    "        ques=mycursor.fetchone()\n",
    "        print(\"--------------------------------------------------------------------------------------------\")\n",
    "        print(\"Q.\",c,\": \",ques[1],\"\\nA.\",ques[2],\"\\t\\tB.\",ques[3],\"\\nC.\",ques[4],\"\\t\\tD.\",ques[5])\n",
    "        print(\"--------------------------------------------------------------------------------------------\")\n",
    "        c+=1\n",
    "        ans=None\n",
    "        while ans==None:\n",
    "            choice=input(\"Answer (A,B,C,D): \")\n",
    "            if choice=='A' or choice=='a':\n",
    "                ans=ques[2]\n",
    "            elif choice=='B' or choice=='b':\n",
    "                ans=ques[3]\n",
    "            elif choice=='C' or choice=='c':\n",
    "                ans=ques[4]\n",
    "            elif choice=='D' or choice=='d':\n",
    "                ans=ques[5]\n",
    "            else:\n",
    "                print(\"Kindly select A,B,C,D as option only\")\n",
    "        if ans==ques[6]:\n",
    "            print(\"Correct\")\n",
    "            score=score+1\n",
    "        else:\n",
    "            print(\"Incorrect.. Correct answer is: \",ques[6])\n",
    "    print(\"Quiz has ended !! Your final score is: \",score)\n",
    "    mycursor.execute(\"Select * from users\")\n",
    "    data=mycursor.fetchall()\n",
    "    user_id=(mycursor.rowcount)+1\n",
    "    mycursor.execute(\"Insert into users values (%s,%s,%s)\",\n",
    "                         (user_id,name,score))\n",
    "    mydb.commit()\n",
    "    input(\"Press any key to continue: \")\n",
    "    Home()"
   ]
  },
  {
   "cell_type": "code",
   "execution_count": 30,
   "id": "aa818a84",
   "metadata": {},
   "outputs": [],
   "source": [
    "# Create home page\n",
    "def Home():\n",
    "    opt=1\n",
    "    while opt!=3:\n",
    "        print(\"Welcome to Quiz\")\n",
    "        print(\"********************\")\n",
    "        print(\"1. Enter Questions\")\n",
    "        print(\"2. Take Quiz\")\n",
    "        print(\"3. Exit\")\n",
    "        opt=int(input(\"Enter your choice: \"))\n",
    "        if opt==1:\n",
    "            Question()\n",
    "        elif opt==2:\n",
    "            Quiz()\n",
    "        elif opt==3:\n",
    "            print(\"Exiting the Quiz\")\n",
    "            mycursor.close()\n",
    "            mydb.close()\n",
    "            sys.exit();\n",
    "        else:\n",
    "            Home()"
   ]
  },
  {
   "cell_type": "code",
   "execution_count": 6,
   "id": "10d013d3",
   "metadata": {},
   "outputs": [
    {
     "name": "stdout",
     "output_type": "stream",
     "text": [
      "Welcome to Quiz\n",
      "********************\n",
      "1. Enter Questions\n",
      "2. Take Quiz\n",
      "3. Exit\n",
      "Enter your choice: 1\n",
      "Welcome to Question Portal\n",
      "***********************\n",
      "Enter the question: Where is Mt. Everest located?\n",
      "Enter the option 1: India\n",
      "Enter the option 2: Nepal\n",
      "Enter the option 3: Srilanka\n",
      "Enter the option 4: Australia\n",
      "Which option is correct answer (1,2,3,4): 2\n",
      "Question added successfully.. Do you want to add more (Y/N) y\n",
      "Welcome to Question Portal\n",
      "***********************\n",
      "Enter the question: Which team is the winner of IPL 2023?\n",
      "Enter the option 1: GT\n",
      "Enter the option 2: MI\n",
      "Enter the option 3: CSK\n",
      "Enter the option 4: RCB\n",
      "Which option is correct answer (1,2,3,4): 3\n",
      "Question added successfully.. Do you want to add more (Y/N) n\n",
      "Welcome to Quiz\n",
      "********************\n",
      "1. Enter Questions\n",
      "2. Take Quiz\n",
      "3. Exit\n",
      "Enter your choice: 2\n",
      "Welcome to Quiz portal\n",
      "***********************\n",
      "Enter your name: Ishwar Gautam\n",
      "Enter the number of questions to attempt (max 2):2\n",
      "Quiz has started\n",
      "--------------------------------------------------------------------------------------------\n",
      "Q. 1 :  Which team is the winner of IPL 2023? \n",
      "A. GT \t\tB. MI \n",
      "C. CSK \t\tD. RCB\n",
      "--------------------------------------------------------------------------------------------\n",
      "Answer (A,B,C,D): D\n",
      "Incorrect.. Correct answer is:  CSK\n",
      "--------------------------------------------------------------------------------------------\n",
      "Q. 2 :  Where is Mt. Everest located? \n",
      "A. India \t\tB. Nepal \n",
      "C. Srilanka \t\tD. Australia\n",
      "--------------------------------------------------------------------------------------------\n",
      "Answer (A,B,C,D): B\n",
      "Correct\n",
      "Quiz has ended !! Your final score is:  1\n",
      "Press any key to continue: \n",
      "Welcome to Quiz\n",
      "********************\n",
      "1. Enter Questions\n",
      "2. Take Quiz\n",
      "3. Exit\n",
      "Enter your choice: 3\n",
      "Exiting the Quiz\n"
     ]
    },
    {
     "ename": "SystemExit",
     "evalue": "",
     "output_type": "error",
     "traceback": [
      "An exception has occurred, use %tb to see the full traceback.\n",
      "\u001b[1;31mSystemExit\u001b[0m\n"
     ]
    }
   ],
   "source": [
    "# Database connection\n",
    "mydb=mysql.connector.connect(\n",
    "    host= \"localhost\",\n",
    "    user= \"root\",\n",
    "    passwd=\"ishwar\",\n",
    "    database= \"quiz\"\n",
    ")\n",
    "mycursor=mydb.cursor()\n",
    "\n",
    "# Run the program\n",
    "Home()"
   ]
  },
  {
   "cell_type": "code",
   "execution_count": null,
   "id": "4d39253b",
   "metadata": {},
   "outputs": [],
   "source": []
  }
 ],
 "metadata": {
  "kernelspec": {
   "display_name": "Python 3 (ipykernel)",
   "language": "python",
   "name": "python3"
  },
  "language_info": {
   "codemirror_mode": {
    "name": "ipython",
    "version": 3
   },
   "file_extension": ".py",
   "mimetype": "text/x-python",
   "name": "python",
   "nbconvert_exporter": "python",
   "pygments_lexer": "ipython3",
   "version": "3.11.0"
  }
 },
 "nbformat": 4,
 "nbformat_minor": 5
}
